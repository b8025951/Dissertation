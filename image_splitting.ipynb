{
 "cells": [
  {
   "cell_type": "code",
   "execution_count": 3,
   "id": "e1fe8ac5",
   "metadata": {},
   "outputs": [
    {
     "name": "stderr",
     "output_type": "stream",
     "text": [
      "Copying files: 1097 files [00:00, 1443.26 files/s]\n"
     ]
    }
   ],
   "source": [
    "# code for splitting the data\n",
    "import splitfolders \n",
    "\n",
    "input_folder = \"./Desktop/IQ_OTHNCCD_lung_cancer_dataset\" # taking from this dataset on local machine\n",
    "output = \"./Desktop/BenignCTScns\" # path files will be written to (also local machine)\n",
    "\n",
    "# splitting into train/test/validation. set seed for reproducability\n",
    "splitfolders.ratio(input_folder, output=output, seed=42, ratio=(.8, .1, .1))"
   ]
  }
 ],
 "metadata": {
  "kernelspec": {
   "display_name": "Python 3 (ipykernel)",
   "language": "python",
   "name": "python3"
  },
  "language_info": {
   "codemirror_mode": {
    "name": "ipython",
    "version": 3
   },
   "file_extension": ".py",
   "mimetype": "text/x-python",
   "name": "python",
   "nbconvert_exporter": "python",
   "pygments_lexer": "ipython3",
   "version": "3.9.7"
  }
 },
 "nbformat": 4,
 "nbformat_minor": 5
}
