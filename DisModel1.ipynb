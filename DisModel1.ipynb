{
 "cells": [
  {
   "cell_type": "markdown",
   "id": "e5c271eb",
   "metadata": {},
   "source": [
    "Things to consider:\n",
    "Need to make sure the root is the correct filepath, this way data can be easily collected and stored etc.\n",
    "Need to ensure necessary imports are highlighted\n",
    "Don't worry about efficiency at first"
   ]
  },
  {
   "cell_type": "markdown",
   "id": "62282d2f",
   "metadata": {},
   "source": [
    "Code for model 1, lung cancer detection and quantification\n",
    "\n",
    "\n",
    "\n"
   ]
  },
  {
   "cell_type": "markdown",
   "id": "25412549",
   "metadata": {},
   "source": [
    "Necessary imports (front-end)"
   ]
  },
  {
   "cell_type": "code",
   "execution_count": 1,
   "id": "6154465e",
   "metadata": {},
   "outputs": [],
   "source": [
    "# general imports needed \n",
    "import os\n",
    "from tensorflow.keras.layers import InputLayer, BatchNormalization, Dropout, Flatten, Dense, Activation, MaxPool2D, Conv2D\n",
    "from tensorflow.keras.applications.resnet50 import ResNet50 # this is needed for the model\n",
    "\n",
    "# pre processing \n",
    "import tensorflow as tf\n",
    "from tensorflow.keras.preprocessing.image import ImageDataGenerator \n",
    "from tensorflow.keras.models import Sequential\n",
    "from tensorflow.keras import optimizers\n",
    "from tensorflow.keras import Model\n",
    "\n",
    "\n"
   ]
  },
  {
   "cell_type": "markdown",
   "id": "dcd4829e",
   "metadata": {},
   "source": [
    "Firstly need to load the data into the notebook"
   ]
  },
  {
   "cell_type": "code",
   "execution_count": 2,
   "id": "ae81f19d",
   "metadata": {},
   "outputs": [],
   "source": [
    "# the data is stored in desktop/CTscns1/ for now but we need to fix the root etc\n",
    "\n",
    "\n",
    "# need to ensure this is tailored towards png and we are keeping the same file structures etc.\n",
    "# also need to think about image sizes\n",
    "\n",
    "\n",
    "\n",
    "# use data generators for loading into train/val/test\n",
    "# first one here is for train\n",
    "train_datagen = ImageDataGenerator(rescale = 1./255,\n",
    "                                   validation_split = 0.2,\n",
    "                                  \n",
    "        rotation_range=5,\n",
    "        width_shift_range=0.2,\n",
    "        height_shift_range=0.2,\n",
    "        shear_range=0.2,\n",
    "        #zoom_range=0.2,\n",
    "        horizontal_flip=True,\n",
    "        vertical_flip=True,\n",
    "        fill_mode='nearest')\n",
    "# arguments are describing how the images should be processed\n",
    "        \n",
    "valid_datagen = ImageDataGenerator(rescale = 1./255,\n",
    "                                  validation_split = 0.2)\n",
    "\n",
    "test_datagen  = ImageDataGenerator(rescale = 1./255)\n",
    "# no validation split with the test data\n",
    "        "
   ]
  },
  {
   "cell_type": "markdown",
   "id": "a9043e71",
   "metadata": {},
   "source": [
    "Use the generators to create the data sets "
   ]
  },
  {
   "cell_type": "code",
   "execution_count": 3,
   "id": "64bcdc28",
   "metadata": {
    "scrolled": true
   },
   "outputs": [
    {
     "name": "stdout",
     "output_type": "stream",
     "text": [
      "Found 613 images belonging to 4 classes.\n",
      "Found 72 images belonging to 4 classes.\n",
      "Found 315 images belonging to 4 classes.\n"
     ]
    }
   ],
   "source": [
    "# code for retreiving desired data from desktop folder, need to move the folders into correct places\n",
    "\n",
    "train_dataset  = train_datagen.flow_from_directory(directory = '/Users/elliotttrott/Desktop/CTscns1/train',\n",
    "                                                   target_size = (224,224),\n",
    "                                                   class_mode = 'categorical',\n",
    "                                                   batch_size = 64)\n",
    "\n",
    "valid_dataset = valid_datagen.flow_from_directory(directory = '/Users/elliotttrott/Desktop/CTscns1/valid',\n",
    "                                                  target_size = (224,224),\n",
    "                                                  class_mode = 'categorical',\n",
    "                                                  batch_size = 64)\n",
    "\n",
    "test_dataset = test_datagen.flow_from_directory(directory = '/Users/elliotttrott/Desktop/CTscns1/test',\n",
    "                                                  target_size = (224,224),\n",
    "                                                  class_mode = 'categorical',\n",
    "                                                  batch_size = 64)\n",
    "\n",
    "\n",
    "\n"
   ]
  },
  {
   "cell_type": "markdown",
   "id": "53ba0c8b",
   "metadata": {},
   "source": [
    "This output means the images have been found, the 4 classes are the 3 types of cancer and then a folder named as 'normal'"
   ]
  },
  {
   "cell_type": "code",
   "execution_count": 4,
   "id": "4a9a656c",
   "metadata": {},
   "outputs": [],
   "source": [
    "# this is not enough data but it is a good jumping off point"
   ]
  },
  {
   "cell_type": "markdown",
   "id": "ce18b5ca",
   "metadata": {},
   "source": [
    "Once the data is loaded in we should visualize some random images"
   ]
  },
  {
   "cell_type": "code",
   "execution_count": 5,
   "id": "ddeb6591",
   "metadata": {},
   "outputs": [
    {
     "ename": "AttributeError",
     "evalue": "'DirectoryIterator' object has no attribute 'class_names'",
     "output_type": "error",
     "traceback": [
      "\u001b[0;31m---------------------------------------------------------------------------\u001b[0m",
      "\u001b[0;31mAttributeError\u001b[0m                            Traceback (most recent call last)",
      "\u001b[0;32m/var/folders/m9/zry7p44125s16p2n_8tr2p440000gn/T/ipykernel_6412/3824503411.py\u001b[0m in \u001b[0;36m<module>\u001b[0;34m\u001b[0m\n\u001b[1;32m      1\u001b[0m \u001b[0;31m# Code for visualization\u001b[0m\u001b[0;34m\u001b[0m\u001b[0;34m\u001b[0m\u001b[0m\n\u001b[1;32m      2\u001b[0m \u001b[0;34m\u001b[0m\u001b[0m\n\u001b[0;32m----> 3\u001b[0;31m \u001b[0mclass_names\u001b[0m \u001b[0;34m=\u001b[0m \u001b[0mtrain_dataset\u001b[0m\u001b[0;34m.\u001b[0m\u001b[0mclass_names\u001b[0m \u001b[0;31m# need to think about what class names relates to here\u001b[0m\u001b[0;34m\u001b[0m\u001b[0;34m\u001b[0m\u001b[0m\n\u001b[0m\u001b[1;32m      4\u001b[0m \u001b[0;34m\u001b[0m\u001b[0m\n\u001b[1;32m      5\u001b[0m \u001b[0mplt\u001b[0m\u001b[0;34m.\u001b[0m\u001b[0mfigure\u001b[0m\u001b[0;34m(\u001b[0m\u001b[0mfigsize\u001b[0m\u001b[0;34m=\u001b[0m\u001b[0;34m(\u001b[0m\u001b[0;36m10\u001b[0m\u001b[0;34m,\u001b[0m \u001b[0;36m10\u001b[0m\u001b[0;34m)\u001b[0m\u001b[0;34m)\u001b[0m \u001b[0;31m# stating the size\u001b[0m\u001b[0;34m\u001b[0m\u001b[0;34m\u001b[0m\u001b[0m\n",
      "\u001b[0;31mAttributeError\u001b[0m: 'DirectoryIterator' object has no attribute 'class_names'"
     ]
    }
   ],
   "source": [
    "# Code for visualization\n",
    "\n",
    "class_names = train_dataset.class_names # need to think about what class names relates to here\n",
    "\n",
    "# no object class names...\n",
    "\n",
    "plt.figure(figsize=(10, 10)) # stating the size\n",
    "for images, labels in train_ds.take(1):\n",
    "    for i in range(9):\n",
    "        ax = plt.subplot(3, 3, i+1)\n",
    "        plt.imshow(images[i].numpy().astype('uint8'))\n",
    "        plt.title(class_names[labels[i]]) # class names to be used as labels, we have already defined class names\n",
    "        plt.axis('off')\n"
   ]
  },
  {
   "cell_type": "markdown",
   "id": "0f5e8e59",
   "metadata": {},
   "source": [
    "Need to build our model, should we see if we can import one first and just run that? compare it to our own model?\n",
    "\n"
   ]
  },
  {
   "cell_type": "code",
   "execution_count": 6,
   "id": "c5ff711d",
   "metadata": {},
   "outputs": [
    {
     "name": "stderr",
     "output_type": "stream",
     "text": [
      "2022-05-05 17:22:15.803324: I tensorflow/core/platform/cpu_feature_guard.cc:151] This TensorFlow binary is optimized with oneAPI Deep Neural Network Library (oneDNN) to use the following CPU instructions in performance-critical operations:  AVX2 FMA\n",
      "To enable them in other operations, rebuild TensorFlow with the appropriate compiler flags.\n"
     ]
    }
   ],
   "source": [
    "# this is loading in a previously trained model... what do we know about resnet?\n",
    "\n",
    "base_mod = tf.keras.applications.ResNet101V2(input_shape=(224,224,3),include_top=False,weights=\"imagenet\")\n",
    "# weights = imagenet refers to the imagenet database\n",
    "# Freezing Layers by setting the trainable layers to false\n",
    "for layer in base_mod.layers:\n",
    "    layer.trainable = False"
   ]
  },
  {
   "cell_type": "code",
   "execution_count": 7,
   "id": "56047938",
   "metadata": {},
   "outputs": [],
   "source": [
    "# resnet is a massive library, we need to optimise to get the best speed/accuracy payoff"
   ]
  },
  {
   "cell_type": "code",
   "execution_count": 8,
   "id": "3330f5a0",
   "metadata": {},
   "outputs": [],
   "source": [
    "# more code for building models\n",
    "\n",
    "\n",
    "x = base_mod.output\n",
    "x = tf.keras.layers.Flatten()(x)\n",
    "x = tf.keras.layers.Dense(1024, activation = 'relu')(x) # activation function relu being used\n",
    "x = tf.keras.layers.Dropout(0.2)(x) # a dropout to avoid overfitting \n",
    "x = tf.keras.layers.Dense(4, activation = \"softmax\")(x) # softmax here...\n",
    "model_1 = Model(inputs= base_mod.input , outputs = x)"
   ]
  },
  {
   "cell_type": "markdown",
   "id": "63ea7564",
   "metadata": {},
   "source": [
    "Need to train the model on only the train data using validate for model fitting \n"
   ]
  },
  {
   "cell_type": "code",
   "execution_count": 9,
   "id": "8ceee253",
   "metadata": {},
   "outputs": [],
   "source": [
    "# need to compile the model here\n",
    "# use x entropy for the loss function\n",
    "\n",
    "model_1.compile(optimizer=optimizers.Adam(learning_rate=0.001), loss='categorical_crossentropy', metrics = ['accuracy'])\n",
    "# setting learning rate, using the most commonly used optimizer 'Adam'\n",
    "\n",
    "# need to think about accuracy here this needs to be displayed when fitting the model"
   ]
  },
  {
   "cell_type": "code",
   "execution_count": 23,
   "id": "8376317d",
   "metadata": {
    "scrolled": true
   },
   "outputs": [
    {
     "name": "stdout",
     "output_type": "stream",
     "text": [
      "Epoch 1/40\n",
      "10/10 [==============================] - 49s 5s/step - loss: 52.3754 - accuracy: 0.4013 - val_loss: 23.5962 - val_accuracy: 0.4028\n",
      "Epoch 2/40\n",
      "10/10 [==============================] - 45s 4s/step - loss: 10.6810 - accuracy: 0.5530 - val_loss: 6.1955 - val_accuracy: 0.5000\n",
      "Epoch 3/40\n",
      "10/10 [==============================] - 45s 4s/step - loss: 4.4789 - accuracy: 0.6036 - val_loss: 1.5819 - val_accuracy: 0.5694\n",
      "Epoch 4/40\n",
      "10/10 [==============================] - 45s 4s/step - loss: 1.4942 - accuracy: 0.6378 - val_loss: 1.3829 - val_accuracy: 0.5417\n",
      "Epoch 5/40\n",
      "10/10 [==============================] - 45s 4s/step - loss: 0.9701 - accuracy: 0.6020 - val_loss: 0.9713 - val_accuracy: 0.5417\n",
      "Epoch 6/40\n",
      "10/10 [==============================] - 45s 4s/step - loss: 0.7308 - accuracy: 0.6509 - val_loss: 0.8518 - val_accuracy: 0.5833\n",
      "Epoch 7/40\n",
      "10/10 [==============================] - 45s 4s/step - loss: 0.6721 - accuracy: 0.6852 - val_loss: 0.8521 - val_accuracy: 0.5556\n",
      "Epoch 8/40\n",
      "10/10 [==============================] - 45s 4s/step - loss: 0.6131 - accuracy: 0.7308 - val_loss: 0.7409 - val_accuracy: 0.5833\n",
      "Epoch 9/40\n",
      "10/10 [==============================] - 45s 4s/step - loss: 0.6257 - accuracy: 0.7341 - val_loss: 0.8390 - val_accuracy: 0.5694\n",
      "Epoch 10/40\n",
      "10/10 [==============================] - 45s 4s/step - loss: 0.6727 - accuracy: 0.6982 - val_loss: 0.7106 - val_accuracy: 0.6806\n",
      "Epoch 11/40\n",
      "10/10 [==============================] - 44s 5s/step - loss: 0.5742 - accuracy: 0.7471 - val_loss: 0.6983 - val_accuracy: 0.6528\n",
      "Epoch 12/40\n",
      "10/10 [==============================] - 45s 4s/step - loss: 0.5389 - accuracy: 0.7749 - val_loss: 0.7617 - val_accuracy: 0.6389\n",
      "Epoch 13/40\n",
      "10/10 [==============================] - 45s 4s/step - loss: 0.5593 - accuracy: 0.7716 - val_loss: 0.6641 - val_accuracy: 0.6389\n",
      "Epoch 14/40\n",
      "10/10 [==============================] - 45s 4s/step - loss: 0.4914 - accuracy: 0.8042 - val_loss: 0.6706 - val_accuracy: 0.6806\n",
      "Epoch 15/40\n",
      "10/10 [==============================] - 45s 5s/step - loss: 0.4882 - accuracy: 0.8059 - val_loss: 0.7744 - val_accuracy: 0.6389\n",
      "Epoch 16/40\n",
      "10/10 [==============================] - 45s 4s/step - loss: 0.4654 - accuracy: 0.7977 - val_loss: 0.5876 - val_accuracy: 0.7361\n",
      "Epoch 17/40\n",
      "10/10 [==============================] - 45s 4s/step - loss: 0.4700 - accuracy: 0.8108 - val_loss: 0.5912 - val_accuracy: 0.7222\n",
      "Epoch 18/40\n",
      "10/10 [==============================] - 45s 4s/step - loss: 0.4558 - accuracy: 0.8173 - val_loss: 0.5575 - val_accuracy: 0.7500\n",
      "Epoch 19/40\n",
      "10/10 [==============================] - 45s 4s/step - loss: 0.4367 - accuracy: 0.8222 - val_loss: 0.6908 - val_accuracy: 0.6667\n",
      "Epoch 20/40\n",
      "10/10 [==============================] - 45s 4s/step - loss: 0.4314 - accuracy: 0.8287 - val_loss: 0.7300 - val_accuracy: 0.6528\n",
      "Epoch 21/40\n",
      "10/10 [==============================] - 45s 4s/step - loss: 0.4225 - accuracy: 0.8483 - val_loss: 0.6732 - val_accuracy: 0.7361\n",
      "Epoch 22/40\n",
      "10/10 [==============================] - 45s 4s/step - loss: 0.4157 - accuracy: 0.8467 - val_loss: 0.6910 - val_accuracy: 0.6944\n",
      "Epoch 23/40\n",
      "10/10 [==============================] - 45s 4s/step - loss: 0.3873 - accuracy: 0.8483 - val_loss: 0.6869 - val_accuracy: 0.7500\n",
      "Epoch 24/40\n",
      "10/10 [==============================] - 45s 4s/step - loss: 0.4093 - accuracy: 0.8336 - val_loss: 0.7736 - val_accuracy: 0.7083\n",
      "Epoch 25/40\n",
      "10/10 [==============================] - 45s 4s/step - loss: 0.4183 - accuracy: 0.8238 - val_loss: 0.7639 - val_accuracy: 0.6944\n",
      "Epoch 26/40\n",
      "10/10 [==============================] - 45s 4s/step - loss: 0.4195 - accuracy: 0.8352 - val_loss: 0.7367 - val_accuracy: 0.7361\n",
      "Epoch 27/40\n",
      "10/10 [==============================] - 45s 4s/step - loss: 0.3905 - accuracy: 0.8515 - val_loss: 0.6461 - val_accuracy: 0.7500\n",
      "Epoch 28/40\n",
      "10/10 [==============================] - 47s 5s/step - loss: 0.3713 - accuracy: 0.8532 - val_loss: 0.7177 - val_accuracy: 0.6944\n",
      "Epoch 29/40\n",
      "10/10 [==============================] - 48s 5s/step - loss: 0.3866 - accuracy: 0.8467 - val_loss: 0.7204 - val_accuracy: 0.7500\n",
      "Epoch 30/40\n",
      "10/10 [==============================] - 48s 5s/step - loss: 0.3652 - accuracy: 0.8336 - val_loss: 0.6441 - val_accuracy: 0.7361\n",
      "Epoch 31/40\n",
      "10/10 [==============================] - 48s 5s/step - loss: 0.3876 - accuracy: 0.8515 - val_loss: 0.6721 - val_accuracy: 0.7083\n",
      "Epoch 32/40\n",
      "10/10 [==============================] - 49s 5s/step - loss: 0.3925 - accuracy: 0.8320 - val_loss: 0.6869 - val_accuracy: 0.7500\n",
      "Epoch 33/40\n",
      "10/10 [==============================] - 49s 5s/step - loss: 0.3733 - accuracy: 0.8515 - val_loss: 0.7994 - val_accuracy: 0.7361\n",
      "Epoch 34/40\n",
      "10/10 [==============================] - 49s 5s/step - loss: 0.3455 - accuracy: 0.8679 - val_loss: 0.6928 - val_accuracy: 0.7500\n",
      "Epoch 35/40\n",
      "10/10 [==============================] - 49s 5s/step - loss: 0.3156 - accuracy: 0.8695 - val_loss: 0.7246 - val_accuracy: 0.7639\n",
      "Epoch 36/40\n",
      "10/10 [==============================] - 49s 5s/step - loss: 0.3051 - accuracy: 0.8646 - val_loss: 0.6667 - val_accuracy: 0.7778\n",
      "Epoch 37/40\n",
      "10/10 [==============================] - 49s 5s/step - loss: 0.3348 - accuracy: 0.8711 - val_loss: 0.6518 - val_accuracy: 0.7778\n",
      "Epoch 38/40\n",
      "10/10 [==============================] - 49s 5s/step - loss: 0.2720 - accuracy: 0.8956 - val_loss: 0.7270 - val_accuracy: 0.7639\n",
      "Epoch 39/40\n",
      "10/10 [==============================] - 49s 5s/step - loss: 0.3108 - accuracy: 0.8891 - val_loss: 0.7450 - val_accuracy: 0.7083\n",
      "Epoch 40/40\n",
      "10/10 [==============================] - 49s 5s/step - loss: 0.2845 - accuracy: 0.8825 - val_loss: 0.6176 - val_accuracy: 0.7500\n"
     ]
    }
   ],
   "source": [
    "# train on training data \n",
    "\n",
    "\n",
    "\n",
    "history=model_1.fit(train_dataset,validation_data=valid_dataset,epochs = 40,verbose = 1)\n",
    "\n",
    "# talk about verbose here"
   ]
  },
  {
   "cell_type": "code",
   "execution_count": 10,
   "id": "db99053e",
   "metadata": {},
   "outputs": [],
   "source": [
    "# final accuracy at around 88% this is not good enough\n",
    "# need to think about what is making the model fail"
   ]
  },
  {
   "cell_type": "markdown",
   "id": "8f759323",
   "metadata": {},
   "source": [
    "Need to save the model as it is before taking the model over the test data"
   ]
  },
  {
   "cell_type": "code",
   "execution_count": 26,
   "id": "79e01a58",
   "metadata": {},
   "outputs": [
    {
     "name": "stderr",
     "output_type": "stream",
     "text": [
      "2022-05-05 15:25:50.016020: W tensorflow/python/util/util.cc:368] Sets are not currently considered sequences, but this may change in the future, so consider avoiding using them.\n"
     ]
    },
    {
     "name": "stdout",
     "output_type": "stream",
     "text": [
      "INFO:tensorflow:Assets written to: /Users/elliotttrott/Desktop/Diss_saved_models/assets\n"
     ]
    },
    {
     "name": "stderr",
     "output_type": "stream",
     "text": [
      "/Users/elliotttrott/opt/anaconda3/lib/python3.9/site-packages/keras/engine/functional.py:1410: CustomMaskWarning: Custom mask layers require a config and must override get_config. When loading, the custom mask layer must be passed to the custom_objects argument.\n",
      "  layer_config = serialize_layer_fn(layer)\n",
      "/Users/elliotttrott/opt/anaconda3/lib/python3.9/site-packages/keras/saving/saved_model/layer_serialization.py:112: CustomMaskWarning: Custom mask layers require a config and must override get_config. When loading, the custom mask layer must be passed to the custom_objects argument.\n",
      "  return generic_utils.serialize_keras_object(obj)\n"
     ]
    }
   ],
   "source": [
    "# code for saving the model\n",
    "\n",
    "model.save(\"/Users/elliotttrott/Desktop/Diss_saved_models\")\n"
   ]
  },
  {
   "cell_type": "markdown",
   "id": "3f10581c",
   "metadata": {},
   "source": [
    "Below display the fitting/loss "
   ]
  },
  {
   "cell_type": "code",
   "execution_count": 24,
   "id": "8fe52aa1",
   "metadata": {},
   "outputs": [
    {
     "data": {
      "image/png": "[encoded data removed]",
      "text/plain": [
       "<Figure size 432x288 with 1 Axes>"
      ]
     },
     "metadata": {
      "needs_background": "light"
     },
     "output_type": "display_data"
    }
   ],
   "source": [
    "# code for producing a plot of acc over the X epochs \n",
    "\n",
    "from matplotlib import pyplot as plt # necessary import\n",
    "plt.plot(history.history['accuracy'])\n",
    "plt.plot(history.history['val_accuracy'])\n",
    "plt.title('model accuracy')\n",
    "plt.ylabel('accuracy')\n",
    "plt.xlabel('epoch')\n",
    "plt.legend(['train', 'val'], loc='upper left')\n",
    "# plt.savefig(\"resnet_accuracy.png\") # this will save the image of the accuracy for this certain model\n",
    "plt.show()\n"
   ]
  },
  {
   "cell_type": "code",
   "execution_count": null,
   "id": "9d2cbad8",
   "metadata": {},
   "outputs": [],
   "source": [
    "# this shows perhaps there arent enough epochs in the run"
   ]
  },
  {
   "cell_type": "code",
   "execution_count": 27,
   "id": "33291a9e",
   "metadata": {},
   "outputs": [
    {
     "data": {
      "image/png": "[encoded data removed]",
      "text/plain": [
       "<Figure size 432x288 with 1 Axes>"
      ]
     },
     "metadata": {
      "needs_background": "light"
     },
     "output_type": "display_data"
    }
   ],
   "source": [
    "# for loss \n",
    "plt.plot(history.history['loss'],label='loss') # adding the labels\n",
    "plt.plot(history.history['val_loss'],label='val_loss')\n",
    "plt.title('model loss')\n",
    "plt.ylabel('loss')\n",
    "plt.xlabel('epoch')\n",
    "plt.legend()\n",
    "plt.show()"
   ]
  },
  {
   "cell_type": "markdown",
   "id": "1628bf99",
   "metadata": {},
   "source": [
    "This is just showing the accuracy and loss of training over the training data"
   ]
  },
  {
   "cell_type": "markdown",
   "id": "994c3ee4",
   "metadata": {},
   "source": [
    "Need to use a fit of the model over the test data\n",
    "\n",
    "Also need to take images from other folders and ensure that this model can be used more flexibly\n"
   ]
  },
  {
   "cell_type": "code",
   "execution_count": null,
   "id": "8fd12c91",
   "metadata": {},
   "outputs": [
    {
     "name": "stderr",
     "output_type": "stream",
     "text": [
      "Exception in thread Thread-53:\n",
      "Traceback (most recent call last):\n",
      "  File \"/Users/elliotttrott/opt/anaconda3/lib/python3.9/threading.py\", line 973, in _bootstrap_inner\n",
      "    self.run()\n",
      "  File \"/Users/elliotttrott/opt/anaconda3/lib/python3.9/threading.py\", line 910, in run\n",
      "    self._target(*self._args, **self._kwargs)\n",
      "  File \"/Users/elliotttrott/opt/anaconda3/lib/python3.9/site-packages/keras/utils/data_utils.py\", line 744, in _run\n",
      "    with closing(self.executor_fn(_SHARED_SEQUENCES)) as executor:\n",
      "  File \"/Users/elliotttrott/opt/anaconda3/lib/python3.9/site-packages/keras/utils/data_utils.py\", line 721, in pool_fn\n",
      "    pool = get_pool_class(True)(\n",
      "  File \"/Users/elliotttrott/opt/anaconda3/lib/python3.9/multiprocessing/context.py\", line 119, in Pool\n",
      "    return Pool(processes, initializer, initargs, maxtasksperchild,\n",
      "  File \"/Users/elliotttrott/opt/anaconda3/lib/python3.9/multiprocessing/pool.py\", line 212, in __init__\n",
      "    self._repopulate_pool()\n",
      "  File \"/Users/elliotttrott/opt/anaconda3/lib/python3.9/multiprocessing/pool.py\", line 303, in _repopulate_pool\n",
      "    return self._repopulate_pool_static(self._ctx, self.Process,\n",
      "  File \"/Users/elliotttrott/opt/anaconda3/lib/python3.9/multiprocessing/pool.py\", line 326, in _repopulate_pool_static\n",
      "    w.start()\n",
      "  File \"/Users/elliotttrott/opt/anaconda3/lib/python3.9/multiprocessing/process.py\", line 121, in start\n",
      "    self._popen = self._Popen(self)\n",
      "  File \"/Users/elliotttrott/opt/anaconda3/lib/python3.9/multiprocessing/context.py\", line 284, in _Popen\n",
      "    return Popen(process_obj)\n",
      "  File \"/Users/elliotttrott/opt/anaconda3/lib/python3.9/multiprocessing/popen_spawn_posix.py\", line 32, in __init__\n",
      "    super().__init__(process_obj)\n",
      "  File \"/Users/elliotttrott/opt/anaconda3/lib/python3.9/multiprocessing/popen_fork.py\", line 19, in __init__\n",
      "    self._launch(process_obj)\n",
      "  File \"/Users/elliotttrott/opt/anaconda3/lib/python3.9/multiprocessing/popen_spawn_posix.py\", line 47, in _launch\n",
      "    reduction.dump(process_obj, fp)\n",
      "  File \"/Users/elliotttrott/opt/anaconda3/lib/python3.9/multiprocessing/reduction.py\", line 60, in dump\n",
      "    ForkingPickler(file, protocol).dump(obj)\n",
      "TypeError: cannot pickle '_thread.lock' object\n"
     ]
    }
   ],
   "source": [
    "# code for testing the model over the test data\n",
    "\n",
    "model_1.evaluate(test_dataset,use_multiprocessing=True, workers = 5)\n",
    "\n",
    "# need to think more about how we can evaluate the model"
   ]
  },
  {
   "cell_type": "markdown",
   "id": "fbc0efd3",
   "metadata": {},
   "source": []
  },
  {
   "cell_type": "markdown",
   "id": "967bf45c",
   "metadata": {},
   "source": [
    "Need to plot the failures and specific instances where errors occur with our model\n",
    "\n",
    "A useful link\n",
    "https://www.kaggle.com/code/iqrar99/chest-ct-scan-resnet50-with-transfer-learning"
   ]
  },
  {
   "cell_type": "code",
   "execution_count": null,
   "id": "6c55ce72",
   "metadata": {},
   "outputs": [],
   "source": [
    "# plotting the images \n",
    "\n",
    "\n",
    "def plot_images(images, cls_true, cls_pred=None, smooth=True):\n",
    "\n",
    "    assert len(images) == len(cls_true)\n",
    "\n",
    "    # Create figure with sub-plots.\n",
    "    fig, axes = plt.subplots(3, 3, figsize=(15,15))\n",
    "\n",
    "    # Adjust vertical spacing.\n",
    "    if cls_pred is None:\n",
    "        hspace = 0.3\n",
    "    else:\n",
    "        hspace = 0.6\n",
    "    fig.subplots_adjust(hspace=hspace, wspace=0.3)\n",
    "\n",
    "    # Interpolation type.\n",
    "    if smooth:\n",
    "        interpolation = 'spline16'\n",
    "    else:\n",
    "        interpolation = 'nearest'\n",
    "\n",
    "    for i, ax in enumerate(axes.flat):\n",
    "        # There may be less than 9 images, ensure it doesn't crash.\n",
    "        if i < len(images):\n",
    "            # Plot image.\n",
    "            ax.imshow(images[i],\n",
    "                      interpolation=interpolation)\n",
    "\n",
    "            # Name of the true class.\n",
    "            cls_true_name = class_names[cls_true[i]]\n",
    "\n",
    "            # Show true and predicted classes.\n",
    "            if cls_pred is None:\n",
    "                xlabel = \"True: {0}\".format(cls_true_name)\n",
    "            else:\n",
    "                # Name of the predicted class.\n",
    "                cls_pred_name = class_names[cls_pred[i]]\n",
    "\n",
    "                xlabel = \"True: {0}\\nPred: {1}\".format(cls_true_name, cls_pred_name)\n",
    "\n",
    "            # Show the classes as the label on the x-axis.\n",
    "            ax.set_xlabel(xlabel)\n",
    "        \n",
    "        # Remove ticks from the plot.\n",
    "        ax.set_xticks([])\n",
    "        ax.set_yticks([])\n",
    "    \n",
    "    # Ensure the plot is shown correctly with multiple plots\n",
    "    # in a single Notebook cell.\n",
    "    plt.show()"
   ]
  },
  {
   "cell_type": "code",
   "execution_count": null,
   "id": "352b4816",
   "metadata": {},
   "outputs": [],
   "source": [
    "# plotting the confusion matrix \n",
    "\n",
    "# Helper-function for printing confusion matrix\n",
    "\n",
    "# Import a function from sklearn to calculate the confusion-matrix.\n",
    "from sklearn.metrics import confusion_matrix\n",
    "\n",
    "def print_confusion_matrix(cls_pred):\n",
    "    # cls_pred is an array of the predicted class-number for\n",
    "    # all images in the test-set.\n",
    "\n",
    "    # Get the confusion matrix using sklearn.\n",
    "    cm = confusion_matrix(y_true=cls_test,  # True class for test-set.\n",
    "                          y_pred=cls_pred)  # Predicted class.\n",
    "\n",
    "    print(\"Confusion matrix:\")\n",
    "    \n",
    "    # Print the confusion matrix as text.\n",
    "    print(cm)\n",
    "    \n",
    "    # Print the class-names for easy reference.\n",
    "    for i, class_name in enumerate(class_names):\n",
    "        print(\"({0}) {1}\".format(i, class_name))"
   ]
  },
  {
   "cell_type": "code",
   "execution_count": null,
   "id": "eec31faa",
   "metadata": {},
   "outputs": [],
   "source": [
    "# part of function for plotting example errors\n",
    "\n",
    "def plot_example_errors(cls_pred):\n",
    "    # cls_pred is an array of the predicted class-number for\n",
    "    # all images in the test-set.\n",
    "\n",
    "    # Boolean array whether the predicted class is incorrect.\n",
    "    incorrect = (cls_pred != cls_test)\n",
    "\n",
    "    # Get the file-paths for images that were incorrectly classified.\n",
    "    image_paths = np.array(image_paths_test)[incorrect]\n",
    "\n",
    "    # Load the first 9 images.\n",
    "    images = load_images(image_paths=image_paths[0:9])\n",
    "    \n",
    "    # Get the predicted classes for those images.\n",
    "    cls_pred = cls_pred[incorrect]\n",
    "\n",
    "    # Get the true classes for those images.\n",
    "    cls_true = cls_test[incorrect]\n",
    "    \n",
    "    # Plot the 9 images we have loaded and their corresponding classes.\n",
    "    # We have only loaded 9 images so there is no need to slice those again.\n",
    "    plot_images(images=images,\n",
    "                cls_true=cls_true[0:9],\n",
    "                cls_pred=cls_pred[0:9])"
   ]
  },
  {
   "cell_type": "code",
   "execution_count": null,
   "id": "5213759a",
   "metadata": {},
   "outputs": [],
   "source": [
    "# plotting a few examples of mis-classified images\n",
    "def example_errors():\n",
    "  \n",
    "    # need to reset the generator, images will start being fed from the beginning\n",
    "    test_generator.reset()\n",
    "    \n",
    "    # redict the classes for all images in the test-set.\n",
    "    y_pred = model.predict(test_generator, steps=STEPS_TEST)\n",
    "\n",
    "    # onvert the predicted classes from arrays to integers\n",
    "    cls_pred = np.argmax(y_pred,axis=1)\n",
    "\n",
    "    # plot examples of mis-classified images\n",
    "    plot_example_errors(cls_pred)\n",
    "    \n",
    "    # confusion matrix\n",
    "    print_confusion_matrix(cls_pred) "
   ]
  }
 ],
 "metadata": {
  "kernelspec": {
   "display_name": "Python 3 (ipykernel)",
   "language": "python",
   "name": "python3"
  },
  "language_info": {
   "codemirror_mode": {
    "name": "ipython",
    "version": 3
   },
   "file_extension": ".py",
   "mimetype": "text/x-python",
   "name": "python",
   "nbconvert_exporter": "python",
   "pygments_lexer": "ipython3",
   "version": "3.9.7"
  }
 },
 "nbformat": 4,
 "nbformat_minor": 5
}
