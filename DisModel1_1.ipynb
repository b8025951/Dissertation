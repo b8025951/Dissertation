{
 "cells": [
  {
   "cell_type": "markdown",
   "id": "e5c271eb",
   "metadata": {},
   "source": [
    "Things to consider:\n",
    "Need to make sure the root is the correct filepath, this way data can be easily collected and stored etc.\n",
    "Need to ensure necessary imports are highlighted\n",
    "Don't worry about efficiency at first"
   ]
  },
  {
   "cell_type": "markdown",
   "id": "62282d2f",
   "metadata": {},
   "source": [
    "Code for model 1, lung cancer detection and quantification\n",
    "\n",
    "\n",
    "\n"
   ]
  },
  {
   "cell_type": "markdown",
   "id": "25412549",
   "metadata": {},
   "source": [
    "Necessary imports (front-end)"
   ]
  },
  {
   "cell_type": "code",
   "execution_count": 1,
   "id": "6154465e",
   "metadata": {},
   "outputs": [],
   "source": [
    "# general imports needed \n",
    "import os\n",
    "from tensorflow.keras.layers import InputLayer, BatchNormalization, Dropout, Flatten, Dense, Activation, MaxPool2D, Conv2D\n",
    "from tensorflow.keras.applications.resnet50 import ResNet50 # this is needed for the model\n",
    "\n",
    "# pre processing \n",
    "import tensorflow as tf\n",
    "from tensorflow.keras.preprocessing.image import ImageDataGenerator \n",
    "from tensorflow.keras.models import Sequential\n",
    "from tensorflow.keras import optimizers\n",
    "from tensorflow.keras import Model\n",
    "\n",
    "\n"
   ]
  },
  {
   "cell_type": "markdown",
   "id": "dcd4829e",
   "metadata": {},
   "source": [
    "Firstly need to load the data into the notebook"
   ]
  },
  {
   "cell_type": "code",
   "execution_count": 2,
   "id": "ae81f19d",
   "metadata": {},
   "outputs": [],
   "source": [
    "# the data is stored in desktop/CTscns1/ for now but we need to fix the root etc\n",
    "\n",
    "\n",
    "# need to ensure this is tailored towards png and we are keeping the same file structures etc.\n",
    "# also need to think about image sizes\n",
    "\n",
    "\n",
    "\n",
    "# use data generators for loading into train/val/test\n",
    "# first one here is for train\n",
    "train_datagen = ImageDataGenerator(rescale = 1./255,\n",
    "                                   validation_split = 0.2,\n",
    "                                  \n",
    "        rotation_range=5,\n",
    "        width_shift_range=0.2,\n",
    "        height_shift_range=0.2,\n",
    "        shear_range=0.2,\n",
    "        #zoom_range=0.2,\n",
    "        horizontal_flip=True,\n",
    "        vertical_flip=True,\n",
    "        fill_mode='nearest')\n",
    "# arguments are describing how the images should be processed\n",
    "        \n",
    "valid_datagen = ImageDataGenerator(rescale = 1./255,\n",
    "                                  validation_split = 0.2)\n",
    "\n",
    "test_datagen  = ImageDataGenerator(rescale = 1./255)\n",
    "# no validation split with the test data\n",
    "        "
   ]
  },
  {
   "cell_type": "markdown",
   "id": "a9043e71",
   "metadata": {},
   "source": [
    "Use the generators to create the data sets "
   ]
  },
  {
   "cell_type": "code",
   "execution_count": 20,
   "id": "64bcdc28",
   "metadata": {
    "scrolled": true
   },
   "outputs": [
    {
     "name": "stdout",
     "output_type": "stream",
     "text": [
      "Found 643 images belonging to 4 classes.\n",
      "Found 39 images belonging to 4 classes.\n",
      "Found 124 images belonging to 4 classes.\n"
     ]
    }
   ],
   "source": [
    "# code for retreiving desired data from desktop folder, need to move the folders into correct places\n",
    "\n",
    "train_dataset  = train_datagen.flow_from_directory(directory = '/Users/elliotttrott/Desktop/CTscns1C/train',\n",
    "                                                   target_size = (224,224),\n",
    "                                                   class_mode = 'categorical',\n",
    "                                                   batch_size = 64)\n",
    "\n",
    "valid_dataset = valid_datagen.flow_from_directory(directory = '/Users/elliotttrott/Desktop/CTscns1C/val',\n",
    "                                                  target_size = (224,224),\n",
    "                                                  class_mode = 'categorical',\n",
    "                                                  batch_size = 64)\n",
    "\n",
    "test_dataset = test_datagen.flow_from_directory(directory = '/Users/elliotttrott/Desktop/CTscns1C/test',\n",
    "                                                  target_size = (224,224),\n",
    "                                                  class_mode = 'categorical',\n",
    "                                                  batch_size = 64)\n",
    "\n",
    "\n",
    "\n"
   ]
  },
  {
   "cell_type": "markdown",
   "id": "53ba0c8b",
   "metadata": {},
   "source": [
    "This output means the images have been found, the 4 classes are the 3 types of cancer and then a folder named as 'normal'"
   ]
  },
  {
   "cell_type": "code",
   "execution_count": 4,
   "id": "4a9a656c",
   "metadata": {},
   "outputs": [],
   "source": [
    "# this is not enough data but it is a good jumping off point"
   ]
  },
  {
   "cell_type": "markdown",
   "id": "ce18b5ca",
   "metadata": {},
   "source": [
    "Once the data is loaded in we should visualize some random images"
   ]
  },
  {
   "cell_type": "code",
   "execution_count": 21,
   "id": "ddeb6591",
   "metadata": {},
   "outputs": [
    {
     "ename": "AttributeError",
     "evalue": "'DirectoryIterator' object has no attribute 'class_names'",
     "output_type": "error",
     "traceback": [
      "\u001b[0;31m---------------------------------------------------------------------------\u001b[0m",
      "\u001b[0;31mAttributeError\u001b[0m                            Traceback (most recent call last)",
      "\u001b[0;32m/var/folders/m9/zry7p44125s16p2n_8tr2p440000gn/T/ipykernel_10801/3987333531.py\u001b[0m in \u001b[0;36m<module>\u001b[0;34m\u001b[0m\n\u001b[1;32m      1\u001b[0m \u001b[0;31m# Code for visualization\u001b[0m\u001b[0;34m\u001b[0m\u001b[0;34m\u001b[0m\u001b[0m\n\u001b[1;32m      2\u001b[0m \u001b[0;34m\u001b[0m\u001b[0m\n\u001b[0;32m----> 3\u001b[0;31m \u001b[0mclass_names\u001b[0m \u001b[0;34m=\u001b[0m \u001b[0mtrain_dataset\u001b[0m\u001b[0;34m.\u001b[0m\u001b[0mclass_names\u001b[0m \u001b[0;31m# need to think about what class names relates to here\u001b[0m\u001b[0;34m\u001b[0m\u001b[0;34m\u001b[0m\u001b[0m\n\u001b[0m\u001b[1;32m      4\u001b[0m \u001b[0;34m\u001b[0m\u001b[0m\n\u001b[1;32m      5\u001b[0m \u001b[0;31m# no object class names...\u001b[0m\u001b[0;34m\u001b[0m\u001b[0;34m\u001b[0m\u001b[0m\n",
      "\u001b[0;31mAttributeError\u001b[0m: 'DirectoryIterator' object has no attribute 'class_names'"
     ]
    }
   ],
   "source": [
    "# Code for visualization\n",
    "\n",
    "class_names = train_dataset.class_names # need to think about what class names relates to here\n",
    "\n",
    "# no object class names...\n",
    "\n",
    "plt.figure(figsize=(10, 10)) # stating the size\n",
    "for images, labels in train_ds.take(1):\n",
    "    for i in range(9):\n",
    "        ax = plt.subplot(3, 3, i+1)\n",
    "        plt.imshow(images[i].numpy().astype('uint8'))\n",
    "        plt.title(class_names[labels[i]]) # class names to be used as labels, we have already defined class names\n",
    "        plt.axis('off')\n"
   ]
  },
  {
   "cell_type": "markdown",
   "id": "0f5e8e59",
   "metadata": {},
   "source": [
    "Need to build our model, should we see if we can import one first and just run that? compare it to our own model?\n",
    "\n"
   ]
  },
  {
   "cell_type": "code",
   "execution_count": 5,
   "id": "c5ff711d",
   "metadata": {},
   "outputs": [
    {
     "name": "stderr",
     "output_type": "stream",
     "text": [
      "2022-08-01 13:31:22.216528: I tensorflow/core/platform/cpu_feature_guard.cc:151] This TensorFlow binary is optimized with oneAPI Deep Neural Network Library (oneDNN) to use the following CPU instructions in performance-critical operations:  AVX2 FMA\n",
      "To enable them in other operations, rebuild TensorFlow with the appropriate compiler flags.\n"
     ]
    }
   ],
   "source": [
    "# this is loading in a previously trained model... what do we know about resnet?\n",
    "\n",
    "base_mod = tf.keras.applications.ResNet101V2(input_shape=(224,224,3),include_top=False,weights=\"imagenet\")\n",
    "# weights = imagenet refers to the imagenet database\n",
    "# Freezing Layers by setting the trainable layers to false\n",
    "for layer in base_mod.layers:\n",
    "    layer.trainable = False"
   ]
  },
  {
   "cell_type": "code",
   "execution_count": 7,
   "id": "56047938",
   "metadata": {},
   "outputs": [],
   "source": [
    "# resnet is a massive library, we need to optimise to get the best speed/accuracy payoff"
   ]
  },
  {
   "cell_type": "code",
   "execution_count": 6,
   "id": "3330f5a0",
   "metadata": {},
   "outputs": [],
   "source": [
    "# more code for building models\n",
    "\n",
    "\n",
    "x = base_mod.output\n",
    "x = tf.keras.layers.Flatten()(x)\n",
    "x = tf.keras.layers.Dense(1024, activation = 'relu')(x) # activation function relu being used\n",
    "x = tf.keras.layers.Dropout(0.2)(x) # a dropout to avoid overfitting \n",
    "x = tf.keras.layers.Dense(4, activation = \"softmax\")(x) # softmax here...\n",
    "model_1 = Model(inputs= base_mod.input , outputs = x)"
   ]
  },
  {
   "cell_type": "markdown",
   "id": "63ea7564",
   "metadata": {},
   "source": [
    "Need to train the model on only the train data using validate for model fitting \n"
   ]
  },
  {
   "cell_type": "code",
   "execution_count": 7,
   "id": "8ceee253",
   "metadata": {},
   "outputs": [],
   "source": [
    "# need to compile the model here\n",
    "# use x entropy for the loss function\n",
    "\n",
    "model_1.compile(optimizer=optimizers.Adam(learning_rate=0.001), loss='categorical_crossentropy', metrics = ['accuracy'])\n",
    "# setting learning rate, using the most commonly used optimizer 'Adam'\n",
    "\n",
    "# need to think about accuracy here this needs to be displayed when fitting the model"
   ]
  },
  {
   "cell_type": "code",
   "execution_count": 8,
   "id": "8376317d",
   "metadata": {
    "scrolled": true
   },
   "outputs": [
    {
     "name": "stdout",
     "output_type": "stream",
     "text": [
      "Epoch 1/40\n",
      "11/11 [==============================] - 55s 5s/step - loss: 51.4306 - accuracy: 0.3608 - val_loss: 23.1379 - val_accuracy: 0.4615\n",
      "Epoch 2/40\n",
      "11/11 [==============================] - 52s 5s/step - loss: 16.7851 - accuracy: 0.4759 - val_loss: 12.7646 - val_accuracy: 0.5641\n",
      "Epoch 3/40\n",
      "11/11 [==============================] - 55s 5s/step - loss: 13.5196 - accuracy: 0.5023 - val_loss: 12.6128 - val_accuracy: 0.4872\n",
      "Epoch 4/40\n",
      "11/11 [==============================] - 52s 5s/step - loss: 9.0124 - accuracy: 0.5723 - val_loss: 4.7800 - val_accuracy: 0.5897\n",
      "Epoch 5/40\n",
      "11/11 [==============================] - 56s 5s/step - loss: 5.2019 - accuracy: 0.6081 - val_loss: 1.4654 - val_accuracy: 0.6923\n",
      "Epoch 6/40\n",
      "11/11 [==============================] - 51s 5s/step - loss: 3.0285 - accuracy: 0.6252 - val_loss: 0.9978 - val_accuracy: 0.7436\n",
      "Epoch 7/40\n",
      "11/11 [==============================] - 51s 5s/step - loss: 2.0587 - accuracy: 0.6579 - val_loss: 1.3022 - val_accuracy: 0.6667\n",
      "Epoch 8/40\n",
      "11/11 [==============================] - 52s 5s/step - loss: 1.6844 - accuracy: 0.6345 - val_loss: 0.4759 - val_accuracy: 0.7949\n",
      "Epoch 9/40\n",
      "11/11 [==============================] - 49s 4s/step - loss: 1.1509 - accuracy: 0.6252 - val_loss: 0.8663 - val_accuracy: 0.5897\n",
      "Epoch 10/40\n",
      "11/11 [==============================] - 45s 4s/step - loss: 1.0961 - accuracy: 0.6096 - val_loss: 0.7639 - val_accuracy: 0.6667\n",
      "Epoch 11/40\n",
      "11/11 [==============================] - 45s 4s/step - loss: 1.0245 - accuracy: 0.6252 - val_loss: 0.6513 - val_accuracy: 0.7436\n",
      "Epoch 12/40\n",
      "11/11 [==============================] - 48s 4s/step - loss: 0.9417 - accuracy: 0.6719 - val_loss: 0.6358 - val_accuracy: 0.6667\n",
      "Epoch 13/40\n",
      "11/11 [==============================] - 47s 4s/step - loss: 0.7170 - accuracy: 0.7045 - val_loss: 0.5565 - val_accuracy: 0.8205\n",
      "Epoch 14/40\n",
      "11/11 [==============================] - 46s 5s/step - loss: 0.7355 - accuracy: 0.7185 - val_loss: 0.5940 - val_accuracy: 0.7692\n",
      "Epoch 15/40\n",
      "11/11 [==============================] - 47s 4s/step - loss: 0.6684 - accuracy: 0.7247 - val_loss: 0.4961 - val_accuracy: 0.8718\n",
      "Epoch 16/40\n",
      "11/11 [==============================] - 47s 4s/step - loss: 0.6235 - accuracy: 0.7387 - val_loss: 0.5606 - val_accuracy: 0.7692\n",
      "Epoch 17/40\n",
      "11/11 [==============================] - 46s 4s/step - loss: 0.6499 - accuracy: 0.7496 - val_loss: 0.4436 - val_accuracy: 0.8205\n",
      "Epoch 18/40\n",
      "11/11 [==============================] - 47s 4s/step - loss: 0.6680 - accuracy: 0.7403 - val_loss: 0.3981 - val_accuracy: 0.8205\n",
      "Epoch 19/40\n",
      "11/11 [==============================] - 48s 4s/step - loss: 0.6763 - accuracy: 0.7216 - val_loss: 0.3953 - val_accuracy: 0.8718\n",
      "Epoch 20/40\n",
      "11/11 [==============================] - 46s 4s/step - loss: 0.5950 - accuracy: 0.7589 - val_loss: 0.4339 - val_accuracy: 0.8718\n",
      "Epoch 21/40\n",
      "11/11 [==============================] - 46s 4s/step - loss: 0.6170 - accuracy: 0.7729 - val_loss: 0.4819 - val_accuracy: 0.7692\n",
      "Epoch 22/40\n",
      "11/11 [==============================] - 48s 4s/step - loss: 0.7592 - accuracy: 0.7294 - val_loss: 0.4080 - val_accuracy: 0.8462\n",
      "Epoch 23/40\n",
      "11/11 [==============================] - 51s 5s/step - loss: 0.6068 - accuracy: 0.7496 - val_loss: 0.4636 - val_accuracy: 0.7692\n",
      "Epoch 24/40\n",
      "11/11 [==============================] - 47s 5s/step - loss: 0.6269 - accuracy: 0.7621 - val_loss: 0.3947 - val_accuracy: 0.8718\n",
      "Epoch 25/40\n",
      "11/11 [==============================] - 47s 4s/step - loss: 0.5853 - accuracy: 0.7652 - val_loss: 0.3867 - val_accuracy: 0.8205\n",
      "Epoch 26/40\n",
      "11/11 [==============================] - 51s 5s/step - loss: 0.4972 - accuracy: 0.7963 - val_loss: 0.4131 - val_accuracy: 0.8718\n",
      "Epoch 27/40\n",
      "11/11 [==============================] - 48s 4s/step - loss: 0.7101 - accuracy: 0.7247 - val_loss: 0.4219 - val_accuracy: 0.8205\n",
      "Epoch 28/40\n",
      "11/11 [==============================] - 50s 4s/step - loss: 0.6136 - accuracy: 0.7434 - val_loss: 0.3710 - val_accuracy: 0.9231\n",
      "Epoch 29/40\n",
      "11/11 [==============================] - 47s 4s/step - loss: 0.5919 - accuracy: 0.7512 - val_loss: 0.3758 - val_accuracy: 0.8718\n",
      "Epoch 30/40\n",
      "11/11 [==============================] - 46s 4s/step - loss: 0.5932 - accuracy: 0.7885 - val_loss: 0.3457 - val_accuracy: 0.8974\n",
      "Epoch 31/40\n",
      "11/11 [==============================] - 46s 4s/step - loss: 0.5255 - accuracy: 0.8072 - val_loss: 0.3725 - val_accuracy: 0.8718\n",
      "Epoch 32/40\n",
      "11/11 [==============================] - 46s 4s/step - loss: 0.5068 - accuracy: 0.7978 - val_loss: 0.3736 - val_accuracy: 0.7949\n",
      "Epoch 33/40\n",
      "11/11 [==============================] - 46s 5s/step - loss: 0.5530 - accuracy: 0.7916 - val_loss: 0.3058 - val_accuracy: 0.8974\n",
      "Epoch 34/40\n",
      "11/11 [==============================] - 47s 4s/step - loss: 0.4833 - accuracy: 0.8056 - val_loss: 0.2727 - val_accuracy: 0.8718\n",
      "Epoch 35/40\n",
      "11/11 [==============================] - 47s 4s/step - loss: 0.5380 - accuracy: 0.7916 - val_loss: 0.2704 - val_accuracy: 0.8974\n",
      "Epoch 36/40\n",
      "11/11 [==============================] - 48s 4s/step - loss: 0.5382 - accuracy: 0.7729 - val_loss: 0.3224 - val_accuracy: 0.8718\n",
      "Epoch 37/40\n",
      "11/11 [==============================] - 47s 4s/step - loss: 0.5219 - accuracy: 0.7838 - val_loss: 0.4146 - val_accuracy: 0.8205\n",
      "Epoch 38/40\n",
      "11/11 [==============================] - 47s 4s/step - loss: 0.4826 - accuracy: 0.8009 - val_loss: 0.3914 - val_accuracy: 0.8205\n",
      "Epoch 39/40\n",
      "11/11 [==============================] - 46s 4s/step - loss: 0.4973 - accuracy: 0.7963 - val_loss: 0.2848 - val_accuracy: 0.8974\n",
      "Epoch 40/40\n",
      "11/11 [==============================] - 46s 4s/step - loss: 0.4583 - accuracy: 0.8134 - val_loss: 0.4448 - val_accuracy: 0.7949\n"
     ]
    }
   ],
   "source": [
    "# train on training data \n",
    "\n",
    "\n",
    "\n",
    "history=model_1.fit(train_dataset,validation_data=valid_dataset,epochs = 40,verbose = 1)\n",
    "\n",
    "# talk about verbose here"
   ]
  },
  {
   "cell_type": "code",
   "execution_count": 10,
   "id": "db99053e",
   "metadata": {},
   "outputs": [],
   "source": [
    "# final accuracy at around 81% this is not good enough\n",
    "# need to think about what is making the model fail"
   ]
  },
  {
   "cell_type": "markdown",
   "id": "8f759323",
   "metadata": {},
   "source": [
    "Need to save the model as it is before taking the model over the test data"
   ]
  },
  {
   "cell_type": "code",
   "execution_count": 10,
   "id": "79e01a58",
   "metadata": {},
   "outputs": [
    {
     "name": "stderr",
     "output_type": "stream",
     "text": [
      "2022-08-01 14:10:06.090330: W tensorflow/python/util/util.cc:368] Sets are not currently considered sequences, but this may change in the future, so consider avoiding using them.\n"
     ]
    },
    {
     "name": "stdout",
     "output_type": "stream",
     "text": [
      "INFO:tensorflow:Assets written to: /Users/elliotttrott/Desktop/Diss_saved_models/ResNet101mod/assets\n"
     ]
    },
    {
     "name": "stderr",
     "output_type": "stream",
     "text": [
      "/Users/elliotttrott/opt/anaconda3/lib/python3.9/site-packages/keras/engine/functional.py:1410: CustomMaskWarning: Custom mask layers require a config and must override get_config. When loading, the custom mask layer must be passed to the custom_objects argument.\n",
      "  layer_config = serialize_layer_fn(layer)\n",
      "/Users/elliotttrott/opt/anaconda3/lib/python3.9/site-packages/keras/saving/saved_model/layer_serialization.py:112: CustomMaskWarning: Custom mask layers require a config and must override get_config. When loading, the custom mask layer must be passed to the custom_objects argument.\n",
      "  return generic_utils.serialize_keras_object(obj)\n"
     ]
    }
   ],
   "source": [
    "# code for saving the model\n",
    "\n",
    "model_1.save(\"/Users/elliotttrott/Desktop/Diss_saved_models/ResNet101mod\")\n"
   ]
  },
  {
   "cell_type": "markdown",
   "id": "3f10581c",
   "metadata": {},
   "source": [
    "Below display the fitting/loss "
   ]
  },
  {
   "cell_type": "code",
   "execution_count": 11,
   "id": "8fe52aa1",
   "metadata": {},
   "outputs": [
    {
     "data": {
      "image/png": "[encoded data removed]",
      "text/plain": [
       "<Figure size 432x288 with 1 Axes>"
      ]
     },
     "metadata": {
      "needs_background": "light"
     },
     "output_type": "display_data"
    }
   ],
   "source": [
    "# code for producing a plot of acc over the X epochs \n",
    "\n",
    "from matplotlib import pyplot as plt # necessary import\n",
    "plt.plot(history.history['accuracy'])\n",
    "plt.plot(history.history['val_accuracy'])\n",
    "plt.title('model accuracy')\n",
    "plt.ylabel('accuracy')\n",
    "plt.xlabel('epoch')\n",
    "plt.legend(['train', 'val'], loc='upper left')\n",
    "# plt.savefig(\"resnet_accuracy.png\") # this will save the image of the accuracy for this certain model\n",
    "plt.show()\n"
   ]
  },
  {
   "cell_type": "code",
   "execution_count": null,
   "id": "9d2cbad8",
   "metadata": {},
   "outputs": [],
   "source": [
    "# this shows perhaps there arent enough epochs in the run"
   ]
  },
  {
   "cell_type": "code",
   "execution_count": 12,
   "id": "33291a9e",
   "metadata": {},
   "outputs": [
    {
     "data": {
      "image/png": "[encoded data removed]",
      "text/plain": [
       "<Figure size 432x288 with 1 Axes>"
      ]
     },
     "metadata": {
      "needs_background": "light"
     },
     "output_type": "display_data"
    }
   ],
   "source": [
    "# for loss \n",
    "plt.plot(history.history['loss'],label='loss') # adding the labels\n",
    "plt.plot(history.history['val_loss'],label='val_loss')\n",
    "plt.title('model loss')\n",
    "plt.ylabel('loss')\n",
    "plt.xlabel('epoch')\n",
    "plt.legend()\n",
    "plt.show()"
   ]
  },
  {
   "cell_type": "markdown",
   "id": "1628bf99",
   "metadata": {},
   "source": [
    "This is just showing the accuracy and loss of training over the training data"
   ]
  },
  {
   "cell_type": "markdown",
   "id": "994c3ee4",
   "metadata": {},
   "source": [
    "Need to use a fit of the model over the test data\n",
    "\n",
    "Also need to take images from other folders and ensure that this model can be used more flexibly\n"
   ]
  },
  {
   "cell_type": "code",
   "execution_count": 22,
   "id": "8fd12c91",
   "metadata": {},
   "outputs": [
    {
     "name": "stdout",
     "output_type": "stream",
     "text": [
      "2/2 [==============================] - 8s 4s/step - loss: 0.8258 - accuracy: 0.7581\n"
     ]
    },
    {
     "data": {
      "text/plain": [
       "[0.8258185982704163, 0.7580645084381104]"
      ]
     },
     "execution_count": 22,
     "metadata": {},
     "output_type": "execute_result"
    }
   ],
   "source": [
    "# code for testing the model over the test data\n",
    "\n",
    "model_1.evaluate(test_dataset)\n",
    "\n",
    "# need to think more about how we can evaluate the model"
   ]
  },
  {
   "cell_type": "code",
   "execution_count": null,
   "id": "33d877cf",
   "metadata": {},
   "outputs": [],
   "source": [
    "# 75% accuracy for this run, need to trial this "
   ]
  },
  {
   "cell_type": "markdown",
   "id": "fbc0efd3",
   "metadata": {},
   "source": []
  },
  {
   "cell_type": "markdown",
   "id": "967bf45c",
   "metadata": {},
   "source": [
    "Need to plot the failures and specific instances where errors occur with our model\n"
   ]
  },
  {
   "cell_type": "code",
   "execution_count": 14,
   "id": "6c55ce72",
   "metadata": {},
   "outputs": [],
   "source": [
    "# plotting the images \n",
    "\n",
    "\n",
    "def plot_images(images, cls_true, cls_pred=None, smooth=True):\n",
    "\n",
    "    assert len(images) == len(cls_true)\n",
    "\n",
    "    # Create figure with sub-plots.\n",
    "    fig, axes = plt.subplots(3, 3, figsize=(15,15))\n",
    "\n",
    "    # Adjust vertical spacing.\n",
    "    if cls_pred is None:\n",
    "        hspace = 0.3\n",
    "    else:\n",
    "        hspace = 0.6\n",
    "    fig.subplots_adjust(hspace=hspace, wspace=0.3)\n",
    "\n",
    "    # Interpolation type.\n",
    "    if smooth:\n",
    "        interpolation = 'spline16'\n",
    "    else:\n",
    "        interpolation = 'nearest'\n",
    "\n",
    "    for i, ax in enumerate(axes.flat):\n",
    "        # There may be less than 9 images, ensure it doesn't crash.\n",
    "        if i < len(images):\n",
    "            # Plot image.\n",
    "            ax.imshow(images[i],\n",
    "                      interpolation=interpolation)\n",
    "\n",
    "            # Name of the true class.\n",
    "            cls_true_name = class_names[cls_true[i]]\n",
    "\n",
    "            # Show true and predicted classes.\n",
    "            if cls_pred is None:\n",
    "                xlabel = \"True: {0}\".format(cls_true_name)\n",
    "            else:\n",
    "                # Name of the predicted class.\n",
    "                cls_pred_name = class_names[cls_pred[i]]\n",
    "\n",
    "                xlabel = \"True: {0}\\nPred: {1}\".format(cls_true_name, cls_pred_name)\n",
    "\n",
    "            # Show the classes as the label on the x-axis.\n",
    "            ax.set_xlabel(xlabel)\n",
    "        \n",
    "        # Remove ticks from the plot.\n",
    "        ax.set_xticks([])\n",
    "        ax.set_yticks([])\n",
    "    \n",
    "    # Ensure the plot is shown correctly with multiple plots\n",
    "    # in a single Notebook cell.\n",
    "    plt.show()"
   ]
  },
  {
   "cell_type": "code",
   "execution_count": 15,
   "id": "352b4816",
   "metadata": {},
   "outputs": [],
   "source": [
    "# plotting the confusion matrix \n",
    "\n",
    "# Helper-function for printing confusion matrix\n",
    "\n",
    "# Import a function from sklearn to calculate the confusion-matrix.\n",
    "from sklearn.metrics import confusion_matrix\n",
    "\n",
    "def print_confusion_matrix(cls_pred):\n",
    "    # cls_pred is an array of the predicted class-number for\n",
    "    # all images in the test-set.\n",
    "\n",
    "    # Get the confusion matrix using sklearn.\n",
    "    cm = confusion_matrix(y_true=cls_test,  # True class for test-set.\n",
    "                          y_pred=cls_pred)  # Predicted class.\n",
    "\n",
    "    print(\"Confusion matrix:\")\n",
    "    \n",
    "    # Print the confusion matrix as text.\n",
    "    print(cm)\n",
    "    \n",
    "    # Print the class-names for easy reference.\n",
    "    for i, class_name in enumerate(class_names):\n",
    "        print(\"({0}) {1}\".format(i, class_name))"
   ]
  },
  {
   "cell_type": "code",
   "execution_count": 16,
   "id": "eec31faa",
   "metadata": {},
   "outputs": [],
   "source": [
    "# part of function for plotting example errors\n",
    "\n",
    "def plot_example_errors(cls_pred):\n",
    "    # cls_pred is an array of the predicted class-number for\n",
    "    # all images in the test-set.\n",
    "\n",
    "    # Boolean array whether the predicted class is incorrect.\n",
    "    incorrect = (cls_pred != cls_test)\n",
    "\n",
    "    # Get the file-paths for images that were incorrectly classified.\n",
    "    image_paths = np.array(image_paths_test)[incorrect]\n",
    "\n",
    "    # Load the first 9 images.\n",
    "    images = load_images(image_paths=image_paths[0:9])\n",
    "    \n",
    "    # Get the predicted classes for those images.\n",
    "    cls_pred = cls_pred[incorrect]\n",
    "\n",
    "    # Get the true classes for those images.\n",
    "    cls_true = cls_test[incorrect]\n",
    "    \n",
    "    # Plot the 9 images we have loaded and their corresponding classes.\n",
    "    # We have only loaded 9 images so there is no need to slice those again.\n",
    "    plot_images(images=images,\n",
    "                cls_true=cls_true[0:9],\n",
    "                cls_pred=cls_pred[0:9])"
   ]
  },
  {
   "cell_type": "code",
   "execution_count": 17,
   "id": "5213759a",
   "metadata": {},
   "outputs": [],
   "source": [
    "# plotting a few examples of mis-classified images\n",
    "def example_errors():\n",
    "  \n",
    "    # need to reset the generator, images will start being fed from the beginning\n",
    "    test_generator.reset()\n",
    "    \n",
    "    # redict the classes for all images in the test-set.\n",
    "    y_pred = model.predict(test_generator, steps=STEPS_TEST)\n",
    "\n",
    "    # onvert the predicted classes from arrays to integers\n",
    "    cls_pred = np.argmax(y_pred,axis=1)\n",
    "\n",
    "    # plot examples of mis-classified images\n",
    "    plot_example_errors(cls_pred)\n",
    "    \n",
    "    # confusion matrix\n",
    "    print_confusion_matrix(cls_pred) "
   ]
  },
  {
   "cell_type": "code",
   "execution_count": 23,
   "id": "585d8dd7",
   "metadata": {},
   "outputs": [
    {
     "data": {
      "text/plain": [
       "<function __main__.example_errors()>"
      ]
     },
     "execution_count": 23,
     "metadata": {},
     "output_type": "execute_result"
    }
   ],
   "source": [
    "example_errors"
   ]
  },
  {
   "cell_type": "code",
   "execution_count": null,
   "id": "bc878295",
   "metadata": {},
   "outputs": [],
   "source": []
  }
 ],
 "metadata": {
  "kernelspec": {
   "display_name": "Python 3 (ipykernel)",
   "language": "python",
   "name": "python3"
  },
  "language_info": {
   "codemirror_mode": {
    "name": "ipython",
    "version": 3
   },
   "file_extension": ".py",
   "mimetype": "text/x-python",
   "name": "python",
   "nbconvert_exporter": "python",
   "pygments_lexer": "ipython3",
   "version": "3.9.7"
  }
 },
 "nbformat": 4,
 "nbformat_minor": 5
}
